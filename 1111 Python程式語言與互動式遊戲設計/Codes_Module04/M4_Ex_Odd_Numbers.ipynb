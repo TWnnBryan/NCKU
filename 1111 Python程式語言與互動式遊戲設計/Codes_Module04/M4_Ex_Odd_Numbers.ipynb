{
 "cells": [
  {
   "cell_type": "code",
   "execution_count": 1,
   "metadata": {},
   "outputs": [
    {
     "name": "stdin",
     "output_type": "stream",
     "text": [
      "Enter a postive number:  20\n"
     ]
    }
   ],
   "source": [
    "number = int(input('Enter a postive number: '))  "
   ]
  },
  {
   "cell_type": "code",
   "execution_count": 2,
   "metadata": {},
   "outputs": [
    {
     "name": "stdout",
     "output_type": "stream",
     "text": [
      "The odd numbers smaller than 20 are:\n",
      "1  3  5  7  9  11  13  15  17  19  "
     ]
    }
   ],
   "source": [
    "print('The odd numbers smaller than', number, 'are:')\n",
    "count = 0\n",
    "while (count < number):\n",
    "    if (count%2):\n",
    "        print(count, ' ', end = '')\n",
    "    count = count + 1"
   ]
  }
 ],
 "metadata": {
  "kernelspec": {
   "display_name": "Python 3",
   "language": "python",
   "name": "python3"
  },
  "language_info": {
   "codemirror_mode": {
    "name": "ipython",
    "version": 3
   },
   "file_extension": ".py",
   "mimetype": "text/x-python",
   "name": "python",
   "nbconvert_exporter": "python",
   "pygments_lexer": "ipython3",
   "version": "3.7.6"
  }
 },
 "nbformat": 4,
 "nbformat_minor": 4
}
