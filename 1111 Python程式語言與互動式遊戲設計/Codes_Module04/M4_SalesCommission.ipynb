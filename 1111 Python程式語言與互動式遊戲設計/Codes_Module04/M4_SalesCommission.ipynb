{
 "cells": [
  {
   "cell_type": "code",
   "execution_count": null,
   "metadata": {},
   "outputs": [],
   "source": [
    "# Create a variable to control the loop.\n",
    "keep_going = 'y'"
   ]
  },
  {
   "cell_type": "code",
   "execution_count": null,
   "metadata": {},
   "outputs": [],
   "source": [
    "# Calculate a series of commissions.\n",
    "while keep_going == 'y':\n",
    "    # Get a salesperson's sales and commission rate.\n",
    "    sales = float(input('Enter the amount of sales: '))\n",
    "    comm_rate = float(input('Enter the commission rate: '))\n",
    "\n",
    "    # Calculate the commission.\n",
    "    commission = sales * comm_rate\n",
    "\n",
    "    # Display the commission.\n",
    "    print('The commission is $', \\\n",
    "          format(commission, ',.2f'), sep='')\n",
    "    # See if the user wants to do another one.\n",
    "    keep_going = input('Do you want to calculate another ' + \\\n",
    "                       'commission (Enter y for yes): ')"
   ]
  },
  {
   "cell_type": "code",
   "execution_count": null,
   "metadata": {},
   "outputs": [],
   "source": []
  }
 ],
 "metadata": {
  "kernelspec": {
   "display_name": "Python 3",
   "language": "python",
   "name": "python3"
  },
  "language_info": {
   "codemirror_mode": {
    "name": "ipython",
    "version": 3
   },
   "file_extension": ".py",
   "mimetype": "text/x-python",
   "name": "python",
   "nbconvert_exporter": "python",
   "pygments_lexer": "ipython3",
   "version": "3.7.6"
  }
 },
 "nbformat": 4,
 "nbformat_minor": 4
}
