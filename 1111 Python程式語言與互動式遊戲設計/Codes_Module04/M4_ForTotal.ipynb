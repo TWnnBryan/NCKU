{
 "cells": [
  {
   "cell_type": "code",
   "execution_count": 1,
   "metadata": {},
   "outputs": [],
   "source": [
    "# This program calculates the sum of a series\n",
    "# of numbers entered by the user.\n",
    "\n",
    "max = 5   # The maximum number\n",
    "\n",
    "# Initialize an accumulator variable.\n",
    "total = 0\n",
    "   "
   ]
  },
  {
   "cell_type": "code",
   "execution_count": 2,
   "metadata": {},
   "outputs": [
    {
     "name": "stdout",
     "output_type": "stream",
     "text": [
      "This program calculates the sum of\n",
      "5 numbers you will enter.\n"
     ]
    },
    {
     "name": "stdin",
     "output_type": "stream",
     "text": [
      "Enter a number:  15\n",
      "Enter a number:  12\n",
      "Enter a number:  19\n",
      "Enter a number:  3\n",
      "Enter a number:  6\n"
     ]
    },
    {
     "name": "stdout",
     "output_type": "stream",
     "text": [
      "The total is 55\n"
     ]
    }
   ],
   "source": [
    "# Explain what we are doing.\n",
    "print('This program calculates the sum of')\n",
    "print(max, 'numbers you will enter.')\n",
    "\n",
    "# Get the numbers and accumulate them.\n",
    "for counter in range(max):\n",
    "    number = int(input('Enter a number: '))\n",
    "    total = total + number\n",
    "\n",
    "# Display the total of the numbers.\n",
    "print('The total is', total)"
   ]
  },
  {
   "cell_type": "code",
   "execution_count": null,
   "metadata": {},
   "outputs": [],
   "source": []
  }
 ],
 "metadata": {
  "kernelspec": {
   "display_name": "Python 3",
   "language": "python",
   "name": "python3"
  },
  "language_info": {
   "codemirror_mode": {
    "name": "ipython",
    "version": 3
   },
   "file_extension": ".py",
   "mimetype": "text/x-python",
   "name": "python",
   "nbconvert_exporter": "python",
   "pygments_lexer": "ipython3",
   "version": "3.7.6"
  }
 },
 "nbformat": 4,
 "nbformat_minor": 4
}
