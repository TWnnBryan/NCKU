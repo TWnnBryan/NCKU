{
 "cells": [
  {
   "cell_type": "code",
   "execution_count": 9,
   "metadata": {},
   "outputs": [],
   "source": [
    "def sum_range(start, stop, step):\n",
    "    \"\"\"sum from start to stop with step increment\"\"\"\n",
    "    total=0\n",
    "    for i in range(start,stop+1,step):\n",
    "        total+=i\n",
    "    return total"
   ]
  },
  {
   "cell_type": "code",
   "execution_count": 10,
   "metadata": {},
   "outputs": [
    {
     "name": "stdin",
     "output_type": "stream",
     "text": [
      "Enter the value to start: 0\n",
      "Enter the value to stop(include): 10\n",
      "Enter the increment: 1\n"
     ]
    }
   ],
   "source": [
    "start = int(input('Enter the value to start:'))\n",
    "stop = int(input('Enter the value to stop(include):'))\n",
    "step = int(input('Enter the increment:'))"
   ]
  },
  {
   "cell_type": "code",
   "execution_count": 11,
   "metadata": {},
   "outputs": [
    {
     "name": "stdout",
     "output_type": "stream",
     "text": [
      "The sum from 0 to 10 with increment 1 is 55\n"
     ]
    }
   ],
   "source": [
    "print('The sum from', start, 'to', stop, 'with increment', step, 'is', \n",
    "      sum_range(start, stop, step))"
   ]
  },
  {
   "cell_type": "code",
   "execution_count": null,
   "metadata": {},
   "outputs": [],
   "source": []
  }
 ],
 "metadata": {
  "kernelspec": {
   "display_name": "Python 3",
   "language": "python",
   "name": "python3"
  },
  "language_info": {
   "codemirror_mode": {
    "name": "ipython",
    "version": 3
   },
   "file_extension": ".py",
   "mimetype": "text/x-python",
   "name": "python",
   "nbconvert_exporter": "python",
   "pygments_lexer": "ipython3",
   "version": "3.7.6"
  }
 },
 "nbformat": 4,
 "nbformat_minor": 4
}
